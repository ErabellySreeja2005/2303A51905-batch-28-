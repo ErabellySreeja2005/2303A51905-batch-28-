{
  "nbformat": 4,
  "nbformat_minor": 0,
  "metadata": {
    "colab": {
      "provenance": [],
      "authorship_tag": "ABX9TyM5OXGp9aBYJEXUae5iyVyz",
      "include_colab_link": true
    },
    "kernelspec": {
      "name": "python3",
      "display_name": "Python 3"
    },
    "language_info": {
      "name": "python"
    }
  },
  "cells": [
    {
      "cell_type": "markdown",
      "metadata": {
        "id": "view-in-github",
        "colab_type": "text"
      },
      "source": [
        "<a href=\"https://colab.research.google.com/github/ErabellySreeja2005/2303A51905-batch-28-/blob/main/Lab%203.ipynb\" target=\"_parent\"><img src=\"https://colab.research.google.com/assets/colab-badge.svg\" alt=\"Open In Colab\"/></a>"
      ]
    },
    {
      "cell_type": "code",
      "execution_count": 2,
      "metadata": {
        "colab": {
          "base_uri": "https://localhost:8080/"
        },
        "id": "haGMNIIbIC0t",
        "outputId": "3b526c0e-eecd-4143-e966-5b79fc53ea71"
      },
      "outputs": [
        {
          "output_type": "stream",
          "name": "stdout",
          "text": [
            "Test Scores (4x4 Matrix):\n",
            " [[88 78 64 92]\n",
            " [57 70 88 68]\n",
            " [72 60 60 73]\n",
            " [85 89 73 52]]\n",
            "\n",
            "Row-wise Means: [80.5  70.75 66.25 74.75]\n",
            "Column-wise Means: [75.5  74.25 71.25 71.25]\n",
            "\n",
            "Standard Deviation (overall): 12.214073593605043\n",
            "Variance (overall): 149.18359375\n",
            "\n",
            "Global Maximum: 92 at index (np.int64(0), np.int64(3))\n",
            "Global Minimum: 52 at index (np.int64(3), np.int64(3))\n",
            "\n",
            "Median Score: 72.5\n"
          ]
        }
      ],
      "source": [
        "import numpy as np\n",
        "np.random.seed(42)  # for reproducibility\n",
        "scores = np.random.randint(50, 101, size=(4, 4))\n",
        "print(\"Test Scores (4x4 Matrix):\\n\", scores)\n",
        "row_mean = np.mean(scores, axis=1)\n",
        "col_mean = np.mean(scores, axis=0)\n",
        "print(\"\\nRow-wise Means:\", row_mean)\n",
        "print(\"Column-wise Means:\", col_mean)\n",
        "std_dev = np.std(scores)\n",
        "variance = np.var(scores)\n",
        "print(\"\\nStandard Deviation (overall):\", std_dev)\n",
        "print(\"Variance (overall):\", variance)\n",
        "global_max = np.max(scores)\n",
        "global_min = np.min(scores)\n",
        "max_index = np.unravel_index(np.argmax(scores), scores.shape)\n",
        "min_index = np.unravel_index(np.argmin(scores), scores.shape)\n",
        "\n",
        "print(\"\\nGlobal Maximum:\", global_max, \"at index\", max_index)\n",
        "print(\"Global Minimum:\", global_min, \"at index\", min_index)\n",
        "median_value = np.median(scores)\n",
        "print(\"\\nMedian Score:\", median_value)"
      ]
    }
  ]
}